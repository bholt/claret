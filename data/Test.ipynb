{
 "metadata": {
  "name": "",
  "signature": "sha256:2e62e65ba1ec2ae9917b7bcb4d2e54d3c2ae238107c905e969a69f7af2206763"
 },
 "nbformat": 3,
 "nbformat_minor": 0,
 "worksheets": [
  {
   "cells": [
    {
     "cell_type": "code",
     "collapsed": false,
     "input": [
      "%matplotlib inline\n",
      "import seaborn as sns\n",
      "import numpy as np\n",
      "import yaml, glob\n",
      "import pandas as pd\n",
      "import dataset"
     ],
     "language": "python",
     "metadata": {},
     "outputs": [],
     "prompt_number": 61
    },
    {
     "cell_type": "code",
     "collapsed": false,
     "input": [
      "sns.set_style(\"whitegrid\")\n",
      "sns.despine()"
     ],
     "language": "python",
     "metadata": {},
     "outputs": [
      {
       "metadata": {},
       "output_type": "display_data",
       "text": [
        "<matplotlib.figure.Figure at 0x11242b190>"
       ]
      }
     ],
     "prompt_number": 7
    },
    {
     "cell_type": "code",
     "collapsed": false,
     "input": [
      "db = dataset.connect('mysql://root@10.8.0.1/claret')\n",
      "tbl = db['tapir']"
     ],
     "language": "python",
     "metadata": {},
     "outputs": [],
     "prompt_number": 80
    },
    {
     "cell_type": "code",
     "collapsed": false,
     "input": [
      "def dataframe(query):\n",
      "    return pd.DataFrame([dict(r) for r in db.query(query)])"
     ],
     "language": "python",
     "metadata": {},
     "outputs": [],
     "prompt_number": 85
    },
    {
     "cell_type": "code",
     "collapsed": false,
     "input": [
      "df = pd.DataFrame([dict(row) for row in tbl.all()])"
     ],
     "language": "python",
     "metadata": {},
     "outputs": [],
     "prompt_number": 76
    },
    {
     "cell_type": "code",
     "collapsed": false,
     "input": [
      "df = dataframe('select * from tapir where total_time is not null')"
     ],
     "language": "python",
     "metadata": {},
     "outputs": [],
     "prompt_number": 86
    },
    {
     "cell_type": "code",
     "collapsed": false,
     "input": [
      "df.keys()"
     ],
     "language": "python",
     "metadata": {},
     "outputs": [
      {
       "metadata": {},
       "output_type": "pyout",
       "prompt_number": 94,
       "text": [
        "Index([u'alpha', u'client', u'clientargs', u'closest', u'config', u'debug', u'duration', u'edgefactor', u'err', u'error', u'filename', u'gen', u'genargs', u'id', u'initposts', u'initusers', u'keys', u'length', u'load', u'mode', u'name', u'nclient', u'nkeys', u'nshard', u'retwis_follow_success', u'retwis_newuser_success', u'retwis_post_success', u'retwis_timeline_success', u'rtime', u'shards', u'skew', u'store', u'threads', u'tlen', u'total_time', u'txn_count', u'txn_failed', u'txn_retries', u'txn_time', u'txns', u'wper', u'writes', u'zalpha', u'txn_abort_rate', u'throughput'], dtype='object')"
       ]
      }
     ],
     "prompt_number": 94
    },
    {
     "cell_type": "code",
     "collapsed": false,
     "input": [
      "def melt_columns(df, columns):\n",
      "    return pd.melt(df, id_vars=list(df.columns - columns), value_vars=columns)"
     ],
     "language": "python",
     "metadata": {},
     "outputs": [],
     "prompt_number": 118
    },
    {
     "cell_type": "code",
     "collapsed": false,
     "input": [
      "txn_columns = ['retwis_newuser_success', 'retwis_post_success', 'retwis_timeline_success', 'retwis_follow_success']"
     ],
     "language": "python",
     "metadata": {},
     "outputs": [],
     "prompt_number": 119
    },
    {
     "cell_type": "code",
     "collapsed": false,
     "input": [],
     "language": "python",
     "metadata": {},
     "outputs": [],
     "prompt_number": 120
    },
    {
     "cell_type": "code",
     "collapsed": false,
     "input": [
      "#data = []\n",
      "#for path in glob.glob(\"/Users/bholt/hub/tapir/src/data/*.yml\"):\n",
      "#    with open(path, 'r') as f:\n",
      "#        data.append(yaml.load(f))"
     ],
     "language": "python",
     "metadata": {},
     "outputs": [],
     "prompt_number": 83
    },
    {
     "cell_type": "code",
     "collapsed": false,
     "input": [
      "df['txn_abort_rate'] = df['txn_failed'] / (df['txn_count'] + df['txn_failed'])\n",
      "df['throughput'] = df['txn_count'] * df['nclient'] / df['total_time']"
     ],
     "language": "python",
     "metadata": {},
     "outputs": [],
     "prompt_number": 87
    },
    {
     "cell_type": "code",
     "collapsed": false,
     "input": [
      "sns.barplot(data=df, x='nclient', y='throughput')"
     ],
     "language": "python",
     "metadata": {},
     "outputs": [
      {
       "metadata": {},
       "output_type": "pyout",
       "prompt_number": 88,
       "text": [
        "<matplotlib.axes.AxesSubplot at 0x11417c410>"
       ]
      },
      {
       "metadata": {},
       "output_type": "display_data",
       "png": "[encoded data removed]",
       "text": [
        "<matplotlib.figure.Figure at 0x114010990>"
       ]
      }
     ],
     "prompt_number": 88
    },
    {
     "cell_type": "code",
     "collapsed": false,
     "input": [
      "sns.barplot(data=df, x='nclient', y='txn_abort_rate')"
     ],
     "language": "python",
     "metadata": {},
     "outputs": [
      {
       "metadata": {},
       "output_type": "pyout",
       "prompt_number": 91,
       "text": [
        "<matplotlib.axes.AxesSubplot at 0x1144e4350>"
       ]
      },
      {
       "metadata": {},
       "output_type": "display_data",
       "png": "[encoded data removed]",
       "text": [
        "<matplotlib.figure.Figure at 0x1141e8f10>"
       ]
      }
     ],
     "prompt_number": 91
    },
    {
     "cell_type": "code",
     "collapsed": false,
     "input": [
      "p = sns.barplot(data=df, x='nclient')"
     ],
     "language": "python",
     "metadata": {},
     "outputs": [
      {
       "metadata": {},
       "output_type": "display_data",
       "png": "[encoded data removed]",
       "text": [
        "<matplotlib.figure.Figure at 0x113ff9150>"
       ]
      }
     ],
     "prompt_number": 90
    },
    {
     "cell_type": "code",
     "collapsed": false,
     "input": [
      "d = melt_columns(df, txn_columns)\n",
      "d['success rate'] = d['value']\n",
      "d['txn type'] = d['variable']\n",
      "import matplotlib.pyplot as plt\n",
      "\n",
      "sns.barplot(data=d, x='nclient', y='success rate', hue='txn type')\n",
      "plt.legend(loc=9, bbox_to_anchor=(1.0, 0.5))"
     ],
     "language": "python",
     "metadata": {},
     "outputs": [
      {
       "metadata": {},
       "output_type": "pyout",
       "prompt_number": 137,
       "text": [
        "<matplotlib.legend.Legend at 0x115cfe8d0>"
       ]
      },
      {
       "metadata": {},
       "output_type": "display_data",
       "png": "[encoded data removed]",
       "text": [
        "<matplotlib.figure.Figure at 0x1157cd590>"
       ]
      }
     ],
     "prompt_number": 137
    },
    {
     "cell_type": "code",
     "collapsed": false,
     "input": [],
     "language": "python",
     "metadata": {},
     "outputs": []
    }
   ],
   "metadata": {}
  }
 ]
}