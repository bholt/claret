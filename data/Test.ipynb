{
 "metadata": {
  "name": "",
  "signature": "sha256:526c61bf4c6cd826efac962ed03feda242fd78bcc63de37b8c5879cdb9a17fb3"
 },
 "nbformat": 3,
 "nbformat_minor": 0,
 "worksheets": [
  {
   "cells": [
    {
     "cell_type": "code",
     "collapsed": false,
     "input": [
      "%matplotlib inline\n",
      "import seaborn as sns\n",
      "import numpy as np\n",
      "import yaml, glob\n",
      "import pandas as pd\n",
      "import dataset\n",
      "import matplotlib.pyplot as plt"
     ],
     "language": "python",
     "metadata": {},
     "outputs": [],
     "prompt_number": 170
    },
    {
     "cell_type": "code",
     "collapsed": false,
     "input": [
      "sns.set_style(\"whitegrid\")\n",
      "sns.despine()"
     ],
     "language": "python",
     "metadata": {},
     "outputs": [
      {
       "metadata": {},
       "output_type": "display_data",
       "text": [
        "<matplotlib.figure.Figure at 0x11242b190>"
       ]
      }
     ],
     "prompt_number": 7
    },
    {
     "cell_type": "code",
     "collapsed": false,
     "input": [
      "db = dataset.connect('mysql://root@10.8.0.1/claret')\n",
      "tbl = db['tapir']"
     ],
     "language": "python",
     "metadata": {},
     "outputs": [],
     "prompt_number": 139
    },
    {
     "cell_type": "code",
     "collapsed": false,
     "input": [
      "def dataframe(query):\n",
      "    return pd.DataFrame([dict(r) for r in db.query(query)])"
     ],
     "language": "python",
     "metadata": {},
     "outputs": [],
     "prompt_number": 140
    },
    {
     "cell_type": "code",
     "collapsed": false,
     "input": [
      "df = pd.DataFrame([dict(row) for row in tbl.all()])"
     ],
     "language": "python",
     "metadata": {},
     "outputs": [],
     "prompt_number": 141
    },
    {
     "cell_type": "code",
     "collapsed": false,
     "input": [
      "df = dataframe('select * from tapir where total_time is not null')"
     ],
     "language": "python",
     "metadata": {},
     "outputs": [],
     "prompt_number": 142
    },
    {
     "cell_type": "code",
     "collapsed": false,
     "input": [
      "df.keys()"
     ],
     "language": "python",
     "metadata": {},
     "outputs": [
      {
       "metadata": {},
       "output_type": "pyout",
       "prompt_number": 143,
       "text": [
        "Index([u'alpha', u'client', u'clientargs', u'closest', u'config', u'debug', u'duration', u'edgefactor', u'error', u'filename', u'gen', u'genargs', u'generator_time', u'id', u'initposts', u'initusers', u'keys', u'length', u'load', u'mode', u'name', u'nclients', u'nshards', u'nthreads', u'ntxns', u'replicas', u'retwis_follow_success', u'retwis_newuser_success', u'retwis_post_success', u'retwis_timeline_success', u'shards', u'skew', u'store', u'threads', u'total_time', u'txn_count', u'txn_failed', u'txn_retries', u'txn_time', u'txns', u'writes'], dtype='object')"
       ]
      }
     ],
     "prompt_number": 143
    },
    {
     "cell_type": "code",
     "collapsed": false,
     "input": [
      "def melt_columns(df, columns):\n",
      "    return pd.melt(df, id_vars=list(df.columns - columns), value_vars=columns)"
     ],
     "language": "python",
     "metadata": {},
     "outputs": [],
     "prompt_number": 144
    },
    {
     "cell_type": "code",
     "collapsed": false,
     "input": [
      "txn_columns = ['retwis_newuser_success', 'retwis_post_success', 'retwis_timeline_success', 'retwis_follow_success']"
     ],
     "language": "python",
     "metadata": {},
     "outputs": [],
     "prompt_number": 145
    },
    {
     "cell_type": "code",
     "collapsed": false,
     "input": [
      "#data = []\n",
      "#for path in glob.glob(\"/Users/bholt/hub/tapir/src/data/*.yml\"):\n",
      "#    with open(path, 'r') as f:\n",
      "#        data.append(yaml.load(f))"
     ],
     "language": "python",
     "metadata": {},
     "outputs": [],
     "prompt_number": 146
    },
    {
     "cell_type": "code",
     "collapsed": false,
     "input": [
      "df['txn_abort_rate'] = df['txn_failed'] / (df['txn_count'] + df['txn_failed'])\n",
      "df['throughput'] = df['txn_count'] * df['nclients'] / df['total_time']"
     ],
     "language": "python",
     "metadata": {},
     "outputs": [],
     "prompt_number": 158
    },
    {
     "cell_type": "code",
     "collapsed": false,
     "input": [
      "df['shards'] = df['nshards'].astype(str)"
     ],
     "language": "python",
     "metadata": {},
     "outputs": [],
     "prompt_number": 163
    },
    {
     "cell_type": "code",
     "collapsed": false,
     "input": [
      "sns.barplot(data=df, x='nclients', y='throughput', hue='shards')"
     ],
     "language": "python",
     "metadata": {},
     "outputs": [
      {
       "metadata": {},
       "output_type": "pyout",
       "prompt_number": 165,
       "text": [
        "<matplotlib.axes.AxesSubplot at 0x115fc6a10>"
       ]
      },
      {
       "metadata": {},
       "output_type": "display_data",
       "png": "[encoded data removed]",
       "text": [
        "<matplotlib.figure.Figure at 0x115fb44d0>"
       ]
      }
     ],
     "prompt_number": 165
    },
    {
     "cell_type": "code",
     "collapsed": false,
     "input": [
      "sns.FacetGrid(df, hue='shards', col='shards').map(\n",
      "    plt.bar, 'nclients', 'throughput'\n",
      ")"
     ],
     "language": "python",
     "metadata": {},
     "outputs": [
      {
       "metadata": {},
       "output_type": "pyout",
       "prompt_number": 196,
       "text": [
        "<seaborn.axisgrid.FacetGrid at 0x119f7bd90>"
       ]
      },
      {
       "metadata": {},
       "output_type": "display_data",
       "png": "[encoded data removed]",
       "text": [
        "<matplotlib.figure.Figure at 0x119f7b950>"
       ]
      }
     ],
     "prompt_number": 196
    },
    {
     "cell_type": "code",
     "collapsed": false,
     "input": [
      "sns.FacetGrid(df, hue='shards', col='shards').map(\n",
      "    sns.barplot, data=df, x='nclients', y='txn_abort_rate'\n",
      ")"
     ],
     "language": "python",
     "metadata": {},
     "outputs": [
      {
       "metadata": {},
       "output_type": "pyout",
       "prompt_number": 185,
       "text": [
        "<seaborn.axisgrid.FacetGrid at 0x117a31dd0>"
       ]
      },
      {
       "metadata": {},
       "output_type": "display_data",
       "png": "[encoded data removed]",
       "text": [
        "<matplotlib.figure.Figure at 0x117a37dd0>"
       ]
      }
     ],
     "prompt_number": 185
    },
    {
     "cell_type": "code",
     "collapsed": false,
     "input": [
      "p = sns.barplot(data=df, x='nclients')"
     ],
     "language": "python",
     "metadata": {},
     "outputs": [
      {
       "metadata": {},
       "output_type": "display_data",
       "png": "[encoded data removed]",
       "text": [
        "<matplotlib.figure.Figure at 0x117dcf3d0>"
       ]
      }
     ],
     "prompt_number": 186
    },
    {
     "cell_type": "code",
     "collapsed": false,
     "input": [
      "d = melt_columns(df, txn_columns)\n",
      "d['success rate'] = d['value']\n",
      "d['txn type'] = d['variable']\n",
      "import matplotlib.pyplot as plt\n",
      "\n",
      "sns.FacetGrid(d, hue='shards', col='shards', size=3).map(\n",
      "    sns.barplot, data=d, x='nclients', y='success rate', hue='txn type'\n",
      ")\n",
      "# sns.barplot(data=d, x='nclients', y='success rate', hue='txn type')\n",
      "plt.legend(loc=9, bbox_to_anchor=(1.0, 0.5))"
     ],
     "language": "python",
     "metadata": {},
     "outputs": [
      {
       "metadata": {},
       "output_type": "pyout",
       "prompt_number": 194,
       "text": [
        "<matplotlib.legend.Legend at 0x119254a10>"
       ]
      },
      {
       "metadata": {},
       "output_type": "display_data",
       "png": "[encoded data removed]",
       "text": [
        "<matplotlib.figure.Figure at 0x119254610>"
       ]
      }
     ],
     "prompt_number": 194
    },
    {
     "cell_type": "code",
     "collapsed": false,
     "input": [
      "%load_ext rmagic"
     ],
     "language": "python",
     "metadata": {},
     "outputs": [],
     "prompt_number": 197
    },
    {
     "cell_type": "code",
     "collapsed": false,
     "input": [
      "%R -i df"
     ],
     "language": "python",
     "metadata": {},
     "outputs": [],
     "prompt_number": 200
    },
    {
     "cell_type": "code",
     "collapsed": false,
     "input": [
      "%%R\n",
      "subset(df, select=c('nclients', 'nshards', 'throughput'))"
     ],
     "language": "python",
     "metadata": {},
     "outputs": [
      {
       "metadata": {},
       "output_type": "display_data",
       "text": [
        "   nclients nshards throughput\n",
        "1         1       1   271.0463\n",
        "2         1       1   271.4261\n",
        "3         1       1   269.4028\n",
        "4         2       1   342.5065\n",
        "5         2       1   354.5711\n",
        "6         2       1   384.6828\n",
        "7         4       1   575.8026\n",
        "8         4       1   564.8574\n",
        "9         4       1   576.0415\n",
        "10        8       1   776.6650\n",
        "11        8       1   785.1327\n",
        "12        8       1   834.6112\n",
        "13        1       2   256.5862\n",
        "14        1       2   233.7695\n",
        "15        2       2   351.9210\n",
        "16        2       2   347.7178\n",
        "17        4       2   778.7158\n",
        "18        4       2   592.1131\n",
        "19        4       2   616.2508\n",
        "20        8       2  1280.3270\n",
        "21        8       2  1304.4141\n",
        "22        8       2  1934.0377\n",
        "23        2       4   338.7091\n",
        "24        4       4   775.2492\n",
        "25        8       4  1644.1040\n",
        "26        8       4  1943.4683\n",
        "27        8       4  1323.3821\n",
        "28        1       2   231.7533\n",
        "29        1       2   291.7185\n",
        "30        2       2   471.3712\n",
        "31        4       2   700.6088\n",
        "32        8       2  1025.5106\n",
        "33        8       2  1259.9335\n",
        "34        8       2  1174.4323\n",
        "35        4       4   953.4782\n",
        "36        4       4   664.8382\n",
        "37        4       4   737.8518\n",
        "38        8       4  1492.3370\n",
        "39        8       4  1696.3289\n",
        "40        8       4  1443.5461\n"
       ]
      }
     ],
     "prompt_number": 204
    },
    {
     "cell_type": "code",
     "collapsed": false,
     "input": [
      "%%R\n",
      "require(ggplot2)\n",
      "ggplot(df, aes(\n",
      "    x=factor(nclients),\n",
      "    y=throughput,\n",
      "    fill=nshards\n",
      "))+stat_summary(fun.y=mean, geom='bar', stat='identity')+theme_bw()"
     ],
     "language": "python",
     "metadata": {},
     "outputs": [
      {
       "output_type": "stream",
       "stream": "stdout",
       "text": [
        "Error in unit(tic_pos.c, \"mm\") : 'x' and 'units' must have length > 0\n",
        "Error in get(x, envir = this, inherits = inh)(this, ...) : \n",
        "  formal argument \"stat\" matched by multiple actual arguments\n"
       ]
      }
     ],
     "prompt_number": 214
    },
    {
     "cell_type": "code",
     "collapsed": false,
     "input": [],
     "language": "python",
     "metadata": {},
     "outputs": []
    }
   ],
   "metadata": {}
  }
 ]
}